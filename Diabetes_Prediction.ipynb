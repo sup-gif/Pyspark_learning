{
 "cells": [
  {
   "cell_type": "markdown",
   "metadata": {
    "id": "Snq4iq_JOB4T"
   },
   "source": [
    "#Installing Dependencies & Initiating a New Spark Session\n",
    "\n"
   ]
  },
  {
   "cell_type": "code",
   "execution_count": null,
   "metadata": {
    "colab": {
     "base_uri": "https://localhost:8080/"
    },
    "id": "NpCRBcqtN5lH",
    "outputId": "889df02a-b4ba-4d8b-d3db-f8ec477a2213"
   },
   "outputs": [],
   "source": [
    "#install pyspark\n",
    "#! pip install pyspark"
   ]
  },
  {
   "cell_type": "code",
   "execution_count": null,
   "metadata": {
    "id": "GNZoOuDqOdxX"
   },
   "outputs": [],
   "source": [
    "#creating a sparksession\n",
    "from pyspark.sql import SparkSession\n",
    "spark = SparkSession.builder.appName(\"spark\").getOrCreate()"
   ]
  },
  {
   "cell_type": "markdown",
   "metadata": {
    "id": "5sG3MLXlOews"
   },
   "source": [
    "#Clone & Explore dataset"
   ]
  },
  {
   "cell_type": "code",
   "execution_count": null,
   "metadata": {
    "id": "ST1rFFOlOu8s"
   },
   "outputs": [],
   "source": [
    "#create a spark dataframe\n",
    "df = spark.read.csv(\"diabetes.csv\",header=True, inferSchema=True)"
   ]
  },
  {
   "cell_type": "code",
   "execution_count": null,
   "metadata": {
    "colab": {
     "base_uri": "https://localhost:8080/"
    },
    "id": "IiJm-pmROvKd",
    "outputId": "5b18717f-9659-4a46-8170-1a5ba34e197b"
   },
   "outputs": [],
   "source": [
    "#displaying the dataframe\n",
    "df.show()\n"
   ]
  },
  {
   "cell_type": "code",
   "execution_count": null,
   "metadata": {
    "colab": {
     "base_uri": "https://localhost:8080/"
    },
    "id": "Ulqkuz8aOvV6",
    "outputId": "bf1d00a7-eecd-4491-8ec8-5e66429d10c6"
   },
   "outputs": [],
   "source": [
    "#printing the schema\n",
    "df.printSchema()"
   ]
  },
  {
   "cell_type": "code",
   "execution_count": null,
   "metadata": {
    "colab": {
     "base_uri": "https://localhost:8080/"
    },
    "id": "kpZlF2S2Ovgw",
    "outputId": "86b71417-317f-4e3a-c16e-5835ae08093b"
   },
   "outputs": [],
   "source": [
    "#count the total no. of diabetic and non-diabetic class.\n",
    "print((df.count(),len(df.columns)))\n",
    "df.groupBy('Outcome').count().show()"
   ]
  },
  {
   "cell_type": "code",
   "execution_count": null,
   "metadata": {
    "colab": {
     "base_uri": "https://localhost:8080/"
    },
    "id": "NewCNZEMOvtM",
    "outputId": "ffeb6535-dbc2-4ebe-9cb1-22ca857f5ead"
   },
   "outputs": [],
   "source": [
    "#summary statistics.\n",
    "df.describe().show()"
   ]
  },
  {
   "cell_type": "markdown",
   "metadata": {
    "id": "gZerPOR-OyjQ"
   },
   "source": [
    "#Data Preparation"
   ]
  },
  {
   "cell_type": "code",
   "execution_count": null,
   "metadata": {
    "colab": {
     "base_uri": "https://localhost:8080/"
    },
    "id": "Q-KkJvV_PFFU",
    "outputId": "7a6419ca-e86b-4ed9-e774-8d73a8d01a89"
   },
   "outputs": [],
   "source": [
    "#checking for null values\n",
    "for col in df.columns:\n",
    "    print(col+\":\",df[df[col].isNull()].count())"
   ]
  },
  {
   "cell_type": "code",
   "execution_count": null,
   "metadata": {
    "id": "ZJsbgwZMPFQC"
   },
   "outputs": [],
   "source": [
    "#check for any unnecessary values\n",
    "def count_zeros():\n",
    "    columns_list = ['Glucose', 'BloodPressure','SkinThickness','Insulin','BMI']\n",
    "    for i in columns_list:\n",
    "        print(i+\":\",df[df[i]==0].count())\n"
   ]
  },
  {
   "cell_type": "code",
   "execution_count": null,
   "metadata": {
    "colab": {
     "base_uri": "https://localhost:8080/"
    },
    "id": "pcXTErb9PFbo",
    "outputId": "f858d5e9-f4c8-421b-c9c1-f1705bd06044"
   },
   "outputs": [],
   "source": [
    "count_zeros()"
   ]
  },
  {
   "cell_type": "code",
   "execution_count": null,
   "metadata": {
    "colab": {
     "base_uri": "https://localhost:8080/"
    },
    "id": "VXemdtaPPFmA",
    "outputId": "e132ff5d-398a-49f0-f7c7-cbb728a47d9a"
   },
   "outputs": [],
   "source": [
    "#calculate and replace the unnecessary values by the mean value of the respective column\n",
    "from pyspark.sql.functions import *\n",
    "for i in df.columns[1:6]:\n",
    "    data= df.agg({i:'mean'}).first()[0]\n",
    "    print(f'mean value for {i} is {int(data)}')\n",
    "\n",
    "df=df.withColumn(i,when(df[i]==0,int(data)).otherwise(df[i]))"
   ]
  },
  {
   "cell_type": "code",
   "execution_count": null,
   "metadata": {
    "colab": {
     "base_uri": "https://localhost:8080/"
    },
    "id": "C0bk0Ps_PFwk",
    "outputId": "b0c1f18b-e8d0-4f5f-9a42-53fbed0bf558"
   },
   "outputs": [],
   "source": [
    "#display the dataframe \n",
    "df.show()"
   ]
  },
  {
   "cell_type": "markdown",
   "metadata": {
    "id": "LOgSTdBpPs7G"
   },
   "source": [
    "#Performing Correlation Analysis & Feature Selection"
   ]
  },
  {
   "cell_type": "code",
   "execution_count": null,
   "metadata": {
    "colab": {
     "base_uri": "https://localhost:8080/"
    },
    "id": "7Eq6jdcFP_3C",
    "outputId": "ea0936c5-a86f-4783-dcf4-07bc03c2343c"
   },
   "outputs": [],
   "source": [
    "#find the correlation between the set of input & output variables\n",
    "for i in df.columns:\n",
    "    print(f'Correlation to outcome for {i} is {df.stat.corr(\"Outcome\",i)}')"
   ]
  },
  {
   "cell_type": "code",
   "execution_count": null,
   "metadata": {
    "id": "Fl7Edj-OQACn"
   },
   "outputs": [],
   "source": [
    "#feature selection\n",
    "from pyspark.ml.feature import VectorAssembler\n",
    "assembler= VectorAssembler(inputCols=['Pregnancies','Glucose','BloodPressure','SkinThickness','Insulin','BMI','DiabetesPedigreeFunction','Age'],outputCol='features')\n",
    "output_data= assembler.transform(df)"
   ]
  },
  {
   "cell_type": "code",
   "execution_count": null,
   "metadata": {
    "colab": {
     "base_uri": "https://localhost:8080/"
    },
    "id": "mJKrfqdaQAOy",
    "outputId": "cf2039a5-832f-4187-b5ad-d5b948321cc3"
   },
   "outputs": [],
   "source": [
    "#print the schema\n",
    "output_data.printSchema()"
   ]
  },
  {
   "cell_type": "code",
   "execution_count": null,
   "metadata": {
    "colab": {
     "base_uri": "https://localhost:8080/"
    },
    "id": "FURl7qESQAaQ",
    "outputId": "1fb12117-18a3-4d71-ce86-eeb44d940c83"
   },
   "outputs": [],
   "source": [
    "#display dataframe\n",
    "output_data.show()"
   ]
  },
  {
   "cell_type": "markdown",
   "metadata": {
    "id": "8fSjOdfyQA99"
   },
   "source": [
    "#Split Dataset & Build the Model"
   ]
  },
  {
   "cell_type": "code",
   "execution_count": null,
   "metadata": {
    "id": "F89--FiVQQJn"
   },
   "outputs": [],
   "source": [
    "#create final data\n",
    "from pyspark.ml.classification import LogisticRegression\n",
    "final_data = output_data.select('features','Outcome')"
   ]
  },
  {
   "cell_type": "code",
   "execution_count": null,
   "metadata": {
    "colab": {
     "base_uri": "https://localhost:8080/"
    },
    "id": "cKpm5912Qji_",
    "outputId": "e293e37e-ab15-4f21-e6bd-ce7460700276"
   },
   "outputs": [],
   "source": [
    "#print schema of final data\n",
    "final_data.printSchema()"
   ]
  },
  {
   "cell_type": "code",
   "execution_count": null,
   "metadata": {
    "id": "r_Nom7aZQjuN"
   },
   "outputs": [],
   "source": [
    "#split the dataset and build the model\n",
    "train,test= final_data.randomSplit([0.7,0.3])\n",
    "models= LogisticRegression(labelCol='Outcome')\n",
    "model= models.fit(train)"
   ]
  },
  {
   "cell_type": "code",
   "execution_count": null,
   "metadata": {
    "colab": {
     "base_uri": "https://localhost:8080/"
    },
    "id": "OljO2HcIQj7E",
    "outputId": "66393b52-50ed-4858-a9e9-d8954816e1a0"
   },
   "outputs": [],
   "source": [
    "#summary of the model\n",
    "summary = model.summary\n",
    "summary.predictions.describe().show()"
   ]
  },
  {
   "cell_type": "markdown",
   "metadata": {
    "id": "DfaD_vzfQkah"
   },
   "source": [
    "#Evaluate and Save the Model"
   ]
  },
  {
   "cell_type": "code",
   "execution_count": null,
   "metadata": {
    "id": "CHC5Erq7Q4QN"
   },
   "outputs": [],
   "source": [
    "from pyspark.ml.evaluation import BinaryClassificationEvaluator\n",
    "predictions = model.evaluate(test)"
   ]
  },
  {
   "cell_type": "code",
   "execution_count": null,
   "metadata": {
    "colab": {
     "base_uri": "https://localhost:8080/"
    },
    "id": "UBltVqoNQ4cM",
    "outputId": "ae8f9751-85dc-4fa5-ebf9-ea17dc4f14eb"
   },
   "outputs": [],
   "source": [
    "predictions.predictions.show(10)"
   ]
  },
  {
   "cell_type": "code",
   "execution_count": null,
   "metadata": {
    "colab": {
     "base_uri": "https://localhost:8080/"
    },
    "id": "A4BHCxCiQ4l-",
    "outputId": "3fc81a61-6982-4d4d-e146-d20b8dadb00c"
   },
   "outputs": [],
   "source": [
    "evaluator = BinaryClassificationEvaluator(rawPredictionCol='rawPrediction', labelCol='Outcome')\n",
    "evaluator.evaluate(model.transform(test))"
   ]
  },
  {
   "cell_type": "code",
   "execution_count": null,
   "metadata": {
    "id": "ERpRUFOHQ4x5"
   },
   "outputs": [],
   "source": [
    "# save model\n",
    "#model.write().overwrite().save(D:/OneDrive - Quadratic Insights Pvt Ltd/Documents\\Training\\Pyspark\\Diabetes_Prediction) \n",
    "model.save(\"model\")"
   ]
  },
  {
   "cell_type": "code",
   "execution_count": null,
   "metadata": {},
   "outputs": [],
   "source": [
    "hadoop --version"
   ]
  },
  {
   "cell_type": "code",
   "execution_count": null,
   "metadata": {
    "id": "4zSA9_KCQ47W"
   },
   "outputs": [],
   "source": [
    "# load saved model back to the environment\n",
    "from pyspark.ml.classification import LogisticRegressionModel\n",
    "model = LogisticRegressionModel.load('model')"
   ]
  },
  {
   "cell_type": "markdown",
   "metadata": {
    "id": "Iznukr-xRANo"
   },
   "source": [
    "#Prediction on New Data with the saved model"
   ]
  },
  {
   "cell_type": "code",
   "execution_count": null,
   "metadata": {
    "id": "MBq2hq27RdHB"
   },
   "outputs": [],
   "source": [
    "#create a new spark dataframe\n",
    "test_df = spark.read.csv(\"/content/diabetes_dataset/new_test.csv\", header= True, inferSchema=True)"
   ]
  },
  {
   "cell_type": "code",
   "execution_count": null,
   "metadata": {
    "colab": {
     "base_uri": "https://localhost:8080/"
    },
    "id": "co8K0NZsRdQB",
    "outputId": "014131f3-e1ac-4219-d8e2-a3175f83726a"
   },
   "outputs": [],
   "source": [
    "#print the schema\n",
    "test_df.printSchema()"
   ]
  },
  {
   "cell_type": "markdown",
   "metadata": {
    "id": "oCL3l_OjdYSx"
   },
   "source": []
  },
  {
   "cell_type": "code",
   "execution_count": null,
   "metadata": {
    "id": "J7jtGf4lRdaz"
   },
   "outputs": [],
   "source": [
    "#create an additional feature merged column \n",
    "test_data = assembler.transform(test_df)"
   ]
  },
  {
   "cell_type": "code",
   "execution_count": null,
   "metadata": {
    "colab": {
     "base_uri": "https://localhost:8080/"
    },
    "id": "kd1glzOnRdkq",
    "outputId": "aa35e1be-40a8-49e6-8494-a0961bed6e31"
   },
   "outputs": [],
   "source": [
    "#print the schema\n",
    "test_data.printSchema()"
   ]
  },
  {
   "cell_type": "code",
   "execution_count": null,
   "metadata": {
    "colab": {
     "base_uri": "https://localhost:8080/"
    },
    "id": "40Dck7K_Rdxh",
    "outputId": "dd635567-4b7a-400f-8449-e789d88b2d64"
   },
   "outputs": [],
   "source": [
    "#use model to make predictions\n",
    "results = model.transform(test_data)\n",
    "results.printSchema()"
   ]
  },
  {
   "cell_type": "code",
   "execution_count": null,
   "metadata": {
    "colab": {
     "base_uri": "https://localhost:8080/"
    },
    "id": "AHpfS2SjRd7s",
    "outputId": "3b0b7873-0b9f-441f-d0e3-0242deadbea0"
   },
   "outputs": [],
   "source": [
    "#display the predictions\n",
    "results.select('features', 'prediction').show()"
   ]
  },
  {
   "cell_type": "code",
   "execution_count": null,
   "metadata": {},
   "outputs": [],
   "source": []
  }
 ],
 "metadata": {
  "colab": {
   "collapsed_sections": [
    "Snq4iq_JOB4T"
   ],
   "include_colab_link": true,
   "name": "Diabetes_Prediction.ipynb",
   "provenance": []
  },
  "kernelspec": {
   "display_name": "Python 3 (ipykernel)",
   "language": "python",
   "name": "python3"
  },
  "language_info": {
   "codemirror_mode": {
    "name": "ipython",
    "version": 3
   },
   "file_extension": ".py",
   "mimetype": "text/x-python",
   "name": "python",
   "nbconvert_exporter": "python",
   "pygments_lexer": "ipython3",
   "version": "3.9.7"
  }
 },
 "nbformat": 4,
 "nbformat_minor": 1
}
