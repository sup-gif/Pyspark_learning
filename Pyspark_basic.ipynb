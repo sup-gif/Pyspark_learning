{
 "cells": [
  {
   "cell_type": "code",
   "execution_count": 10,
   "id": "3593a1ab",
   "metadata": {},
   "outputs": [
    {
     "name": "stdout",
     "output_type": "stream",
     "text": [
      "The nb_black extension is already loaded. To reload it, use:\n",
      "  %reload_ext nb_black\n"
     ]
    },
    {
     "data": {
      "application/javascript": [
       "\n",
       "            setTimeout(function() {\n",
       "                var nbb_cell_id = 10;\n",
       "                var nbb_unformatted_code = \"%load_ext nb_black\\nimport pyspark\\nfrom pyspark import SparkContext, SparkConf\\nconf = SparkConf()\\nsc = SparkContext(conf=conf)\\nspark = SparkSession(sc)\";\n",
       "                var nbb_formatted_code = \"%load_ext nb_black\\nimport pyspark\\nfrom pyspark import SparkContext, SparkConf\\n\\nconf = SparkConf()\\nsc = SparkContext(conf=conf)\\nspark = SparkSession(sc)\";\n",
       "                var nbb_cells = Jupyter.notebook.get_cells();\n",
       "                for (var i = 0; i < nbb_cells.length; ++i) {\n",
       "                    if (nbb_cells[i].input_prompt_number == nbb_cell_id) {\n",
       "                        if (nbb_cells[i].get_text() == nbb_unformatted_code) {\n",
       "                             nbb_cells[i].set_text(nbb_formatted_code);\n",
       "                        }\n",
       "                        break;\n",
       "                    }\n",
       "                }\n",
       "            }, 500);\n",
       "            "
      ],
      "text/plain": [
       "<IPython.core.display.Javascript object>"
      ]
     },
     "metadata": {},
     "output_type": "display_data"
    }
   ],
   "source": [
    "%load_ext nb_black\n",
    "import pyspark\n",
    "from pyspark import SparkContext, SparkConf\n",
    "\n",
    "conf = SparkConf()\n",
    "sc = SparkContext(conf=conf)\n",
    "spark = SparkSession(sc)"
   ]
  },
  {
   "cell_type": "code",
   "execution_count": 11,
   "id": "a0883427",
   "metadata": {},
   "outputs": [
    {
     "data": {
      "application/javascript": [
       "\n",
       "            setTimeout(function() {\n",
       "                var nbb_cell_id = 11;\n",
       "                var nbb_unformatted_code = \"from pyspark.sql.types import (\\n    StringType,\\n    StructField,\\n    StructType,\\n    IntegerType,\\n    DoubleType,\\n)\\n\\ncircuits_schema = StructType(\\n    fields=[\\n        StructField(\\\"circuitId\\\", IntegerType(), False),\\n        StructField(\\\"circuitRef\\\", StringType(), True),\\n        StructField(\\\"name\\\", StringType(), True),\\n        StructField(\\\"location\\\", StringType(), True),\\n        StructField(\\\"country\\\", StringType(), True),\\n        StructField(\\\"lat\\\", DoubleType(), True),\\n        StructField(\\\"lng\\\", DoubleType(), True),\\n        StructField(\\\"alt\\\", IntegerType(), True),\\n        StructField(\\\"url\\\", StringType(), True),\\n    ]\\n)\";\n",
       "                var nbb_formatted_code = \"from pyspark.sql.types import (\\n    StringType,\\n    StructField,\\n    StructType,\\n    IntegerType,\\n    DoubleType,\\n)\\n\\ncircuits_schema = StructType(\\n    fields=[\\n        StructField(\\\"circuitId\\\", IntegerType(), False),\\n        StructField(\\\"circuitRef\\\", StringType(), True),\\n        StructField(\\\"name\\\", StringType(), True),\\n        StructField(\\\"location\\\", StringType(), True),\\n        StructField(\\\"country\\\", StringType(), True),\\n        StructField(\\\"lat\\\", DoubleType(), True),\\n        StructField(\\\"lng\\\", DoubleType(), True),\\n        StructField(\\\"alt\\\", IntegerType(), True),\\n        StructField(\\\"url\\\", StringType(), True),\\n    ]\\n)\";\n",
       "                var nbb_cells = Jupyter.notebook.get_cells();\n",
       "                for (var i = 0; i < nbb_cells.length; ++i) {\n",
       "                    if (nbb_cells[i].input_prompt_number == nbb_cell_id) {\n",
       "                        if (nbb_cells[i].get_text() == nbb_unformatted_code) {\n",
       "                             nbb_cells[i].set_text(nbb_formatted_code);\n",
       "                        }\n",
       "                        break;\n",
       "                    }\n",
       "                }\n",
       "            }, 500);\n",
       "            "
      ],
      "text/plain": [
       "<IPython.core.display.Javascript object>"
      ]
     },
     "metadata": {},
     "output_type": "display_data"
    }
   ],
   "source": [
    "from pyspark.sql.types import (\n",
    "    StringType,\n",
    "    StructField,\n",
    "    StructType,\n",
    "    IntegerType,\n",
    "    DoubleType,\n",
    ")\n",
    "\n",
    "circuits_schema = StructType(\n",
    "    fields=[\n",
    "        StructField(\"circuitId\", IntegerType(), False),\n",
    "        StructField(\"circuitRef\", StringType(), True),\n",
    "        StructField(\"name\", StringType(), True),\n",
    "        StructField(\"location\", StringType(), True),\n",
    "        StructField(\"country\", StringType(), True),\n",
    "        StructField(\"lat\", DoubleType(), True),\n",
    "        StructField(\"lng\", DoubleType(), True),\n",
    "        StructField(\"alt\", IntegerType(), True),\n",
    "        StructField(\"url\", StringType(), True),\n",
    "    ]\n",
    ")"
   ]
  },
  {
   "cell_type": "code",
   "execution_count": 12,
   "id": "3531e0fb",
   "metadata": {},
   "outputs": [
    {
     "data": {
      "application/javascript": [
       "\n",
       "            setTimeout(function() {\n",
       "                var nbb_cell_id = 12;\n",
       "                var nbb_unformatted_code = \"# reading csv file using spark dataframe reader'\\n\\ncircuits_df = (\\n    spark.read.format(\\\"csv\\\")\\n    .option(\\\"header\\\", True)\\n    .schema(circuits_schema)\\n    .load(\\\"../Data/circuits.csv\\\")\\n)\";\n",
       "                var nbb_formatted_code = \"# reading csv file using spark dataframe reader'\\n\\ncircuits_df = (\\n    spark.read.format(\\\"csv\\\")\\n    .option(\\\"header\\\", True)\\n    .schema(circuits_schema)\\n    .load(\\\"../Data/circuits.csv\\\")\\n)\";\n",
       "                var nbb_cells = Jupyter.notebook.get_cells();\n",
       "                for (var i = 0; i < nbb_cells.length; ++i) {\n",
       "                    if (nbb_cells[i].input_prompt_number == nbb_cell_id) {\n",
       "                        if (nbb_cells[i].get_text() == nbb_unformatted_code) {\n",
       "                             nbb_cells[i].set_text(nbb_formatted_code);\n",
       "                        }\n",
       "                        break;\n",
       "                    }\n",
       "                }\n",
       "            }, 500);\n",
       "            "
      ],
      "text/plain": [
       "<IPython.core.display.Javascript object>"
      ]
     },
     "metadata": {},
     "output_type": "display_data"
    }
   ],
   "source": [
    "# reading csv file using spark dataframe reader'\n",
    "\n",
    "circuits_df = (\n",
    "    spark.read.format(\"csv\")\n",
    "    .option(\"header\", True)\n",
    "    .schema(circuits_schema)\n",
    "    .load(\"../Data/circuits.csv\")\n",
    ")"
   ]
  },
  {
   "cell_type": "code",
   "execution_count": 13,
   "id": "e7e07486",
   "metadata": {},
   "outputs": [
    {
     "data": {
      "application/javascript": [
       "\n",
       "            setTimeout(function() {\n",
       "                var nbb_cell_id = 13;\n",
       "                var nbb_unformatted_code = \"# selecting the required column (droping url and rename the column this is one way)\\nfrom pyspark.sql.functions import col\\n\\ncircuits_selected_df = circuits_df.select(\\n    col(\\\"circuitId\\\").alias(\\\"circuit_id\\\"),\\n    col(\\\"circuitRef\\\"),\\n    col(\\\"name\\\"),\\n    col(\\\"location\\\"),\\n    col(\\\"country\\\"),\\n    col(\\\"lat\\\"),\\n    col(\\\"lng\\\"),\\n    col(\\\"alt\\\"),\\n)\";\n",
       "                var nbb_formatted_code = \"# selecting the required column (droping url and rename the column this is one way)\\nfrom pyspark.sql.functions import col\\n\\ncircuits_selected_df = circuits_df.select(\\n    col(\\\"circuitId\\\").alias(\\\"circuit_id\\\"),\\n    col(\\\"circuitRef\\\"),\\n    col(\\\"name\\\"),\\n    col(\\\"location\\\"),\\n    col(\\\"country\\\"),\\n    col(\\\"lat\\\"),\\n    col(\\\"lng\\\"),\\n    col(\\\"alt\\\"),\\n)\";\n",
       "                var nbb_cells = Jupyter.notebook.get_cells();\n",
       "                for (var i = 0; i < nbb_cells.length; ++i) {\n",
       "                    if (nbb_cells[i].input_prompt_number == nbb_cell_id) {\n",
       "                        if (nbb_cells[i].get_text() == nbb_unformatted_code) {\n",
       "                             nbb_cells[i].set_text(nbb_formatted_code);\n",
       "                        }\n",
       "                        break;\n",
       "                    }\n",
       "                }\n",
       "            }, 500);\n",
       "            "
      ],
      "text/plain": [
       "<IPython.core.display.Javascript object>"
      ]
     },
     "metadata": {},
     "output_type": "display_data"
    }
   ],
   "source": [
    "# selecting the required column (droping url and rename the column this is one way)\n",
    "from pyspark.sql.functions import col\n",
    "\n",
    "circuits_selected_df = circuits_df.select(\n",
    "    col(\"circuitId\").alias(\"circuit_id\"),\n",
    "    col(\"circuitRef\"),\n",
    "    col(\"name\"),\n",
    "    col(\"location\"),\n",
    "    col(\"country\"),\n",
    "    col(\"lat\"),\n",
    "    col(\"lng\"),\n",
    "    col(\"alt\"),\n",
    ")"
   ]
  },
  {
   "cell_type": "code",
   "execution_count": 14,
   "id": "6bf491fe",
   "metadata": {},
   "outputs": [
    {
     "data": {
      "application/javascript": [
       "\n",
       "            setTimeout(function() {\n",
       "                var nbb_cell_id = 14;\n",
       "                var nbb_unformatted_code = \"# Renaming a column\\ncircuits_renamed_df = (\\n    circuits_selected_df.withColumnRenamed(\\\"circuitRef\\\", \\\"circuits_ref\\\")\\n    .withColumnRenamed(\\\"lat\\\", \\\"latitude\\\")\\n    .withColumnRenamed(\\\"lng\\\", \\\"longitude\\\")\\n    .withColumnRenamed(\\\"alt\\\", \\\"altitude\\\")\\n)\";\n",
       "                var nbb_formatted_code = \"# Renaming a column\\ncircuits_renamed_df = (\\n    circuits_selected_df.withColumnRenamed(\\\"circuitRef\\\", \\\"circuits_ref\\\")\\n    .withColumnRenamed(\\\"lat\\\", \\\"latitude\\\")\\n    .withColumnRenamed(\\\"lng\\\", \\\"longitude\\\")\\n    .withColumnRenamed(\\\"alt\\\", \\\"altitude\\\")\\n)\";\n",
       "                var nbb_cells = Jupyter.notebook.get_cells();\n",
       "                for (var i = 0; i < nbb_cells.length; ++i) {\n",
       "                    if (nbb_cells[i].input_prompt_number == nbb_cell_id) {\n",
       "                        if (nbb_cells[i].get_text() == nbb_unformatted_code) {\n",
       "                             nbb_cells[i].set_text(nbb_formatted_code);\n",
       "                        }\n",
       "                        break;\n",
       "                    }\n",
       "                }\n",
       "            }, 500);\n",
       "            "
      ],
      "text/plain": [
       "<IPython.core.display.Javascript object>"
      ]
     },
     "metadata": {},
     "output_type": "display_data"
    }
   ],
   "source": [
    "# Renaming a column\n",
    "circuits_renamed_df = (\n",
    "    circuits_selected_df.withColumnRenamed(\"circuitRef\", \"circuits_ref\")\n",
    "    .withColumnRenamed(\"lat\", \"latitude\")\n",
    "    .withColumnRenamed(\"lng\", \"longitude\")\n",
    "    .withColumnRenamed(\"alt\", \"altitude\")\n",
    ")"
   ]
  },
  {
   "cell_type": "code",
   "execution_count": 15,
   "id": "96b46d54",
   "metadata": {},
   "outputs": [
    {
     "data": {
      "application/javascript": [
       "\n",
       "            setTimeout(function() {\n",
       "                var nbb_cell_id = 15;\n",
       "                var nbb_unformatted_code = \"# adding igestion date to dataframe\\nfrom pyspark.sql.functions import current_timestamp, lit\\n\\ncircuits_final_df = circuits_renamed_df.withColumn(\\n    \\\"ingestion_date\\\", current_timestamp()\\n)\\n# .withColumn(\\\"env\\\", lit(\\\"Production\\\")) #to add column with values\";\n",
       "                var nbb_formatted_code = \"# adding igestion date to dataframe\\nfrom pyspark.sql.functions import current_timestamp, lit\\n\\ncircuits_final_df = circuits_renamed_df.withColumn(\\n    \\\"ingestion_date\\\", current_timestamp()\\n)\\n# .withColumn(\\\"env\\\", lit(\\\"Production\\\")) #to add column with values\";\n",
       "                var nbb_cells = Jupyter.notebook.get_cells();\n",
       "                for (var i = 0; i < nbb_cells.length; ++i) {\n",
       "                    if (nbb_cells[i].input_prompt_number == nbb_cell_id) {\n",
       "                        if (nbb_cells[i].get_text() == nbb_unformatted_code) {\n",
       "                             nbb_cells[i].set_text(nbb_formatted_code);\n",
       "                        }\n",
       "                        break;\n",
       "                    }\n",
       "                }\n",
       "            }, 500);\n",
       "            "
      ],
      "text/plain": [
       "<IPython.core.display.Javascript object>"
      ]
     },
     "metadata": {},
     "output_type": "display_data"
    }
   ],
   "source": [
    "# adding igestion date to dataframe\n",
    "from pyspark.sql.functions import current_timestamp, lit\n",
    "\n",
    "circuits_final_df = circuits_renamed_df.withColumn(\n",
    "    \"ingestion_date\", current_timestamp()\n",
    ")\n",
    "# .withColumn(\"env\", lit(\"Production\")) #to add column with values"
   ]
  },
  {
   "cell_type": "code",
   "execution_count": 16,
   "id": "1b3b363c",
   "metadata": {},
   "outputs": [
    {
     "name": "stdout",
     "output_type": "stream",
     "text": [
      "+----------+------------+--------------------+------------+---------+--------+---------+--------+--------------------+\n",
      "|circuit_id|circuits_ref|                name|    location|  country|latitude|longitude|altitude|      ingestion_date|\n",
      "+----------+------------+--------------------+------------+---------+--------+---------+--------+--------------------+\n",
      "|         1| albert_park|Albert Park Grand...|   Melbourne|Australia|-37.8497|  144.968|      10|2022-01-24 00:20:...|\n",
      "|         2|      sepang|Sepang Internatio...|Kuala Lumpur| Malaysia| 2.76083|  101.738|      18|2022-01-24 00:20:...|\n",
      "|         3|     bahrain|Bahrain Internati...|      Sakhir|  Bahrain| 26.0325|  50.5106|       7|2022-01-24 00:20:...|\n",
      "|         4|   catalunya|Circuit de Barcel...|    Montmeló|    Spain|   41.57|  2.26111|     109|2022-01-24 00:20:...|\n",
      "|         5|    istanbul|       Istanbul Park|    Istanbul|   Turkey| 40.9517|   29.405|     130|2022-01-24 00:20:...|\n",
      "|         6|      monaco|   Circuit de Monaco| Monte-Carlo|   Monaco| 43.7347|  7.42056|       7|2022-01-24 00:20:...|\n",
      "|         7|  villeneuve|Circuit Gilles Vi...|    Montreal|   Canada|    45.5| -73.5228|      13|2022-01-24 00:20:...|\n",
      "+----------+------------+--------------------+------------+---------+--------+---------+--------+--------------------+\n",
      "only showing top 7 rows\n",
      "\n"
     ]
    },
    {
     "data": {
      "application/javascript": [
       "\n",
       "            setTimeout(function() {\n",
       "                var nbb_cell_id = 16;\n",
       "                var nbb_unformatted_code = \"circuits_final_df.show(n=7)\";\n",
       "                var nbb_formatted_code = \"circuits_final_df.show(n=7)\";\n",
       "                var nbb_cells = Jupyter.notebook.get_cells();\n",
       "                for (var i = 0; i < nbb_cells.length; ++i) {\n",
       "                    if (nbb_cells[i].input_prompt_number == nbb_cell_id) {\n",
       "                        if (nbb_cells[i].get_text() == nbb_unformatted_code) {\n",
       "                             nbb_cells[i].set_text(nbb_formatted_code);\n",
       "                        }\n",
       "                        break;\n",
       "                    }\n",
       "                }\n",
       "            }, 500);\n",
       "            "
      ],
      "text/plain": [
       "<IPython.core.display.Javascript object>"
      ]
     },
     "metadata": {},
     "output_type": "display_data"
    }
   ],
   "source": [
    "circuits_final_df.show(n=7)"
   ]
  },
  {
   "cell_type": "code",
   "execution_count": 150,
   "id": "ef1bf2ec",
   "metadata": {},
   "outputs": [
    {
     "data": {
      "application/javascript": [
       "\n",
       "            setTimeout(function() {\n",
       "                var nbb_cell_id = 150;\n",
       "                var nbb_unformatted_code = \"# Witing data to datalake as parquet form\\n#circuits_final_df.write.mode(\\\"overwrite\\\").parquet(\\\"circuits\\\")\";\n",
       "                var nbb_formatted_code = \"# Witing data to datalake as parquet form\\n# circuits_final_df.write.mode(\\\"overwrite\\\").parquet(\\\"circuits\\\")\";\n",
       "                var nbb_cells = Jupyter.notebook.get_cells();\n",
       "                for (var i = 0; i < nbb_cells.length; ++i) {\n",
       "                    if (nbb_cells[i].input_prompt_number == nbb_cell_id) {\n",
       "                        if (nbb_cells[i].get_text() == nbb_unformatted_code) {\n",
       "                             nbb_cells[i].set_text(nbb_formatted_code);\n",
       "                        }\n",
       "                        break;\n",
       "                    }\n",
       "                }\n",
       "            }, 500);\n",
       "            "
      ],
      "text/plain": [
       "<IPython.core.display.Javascript object>"
      ]
     },
     "metadata": {},
     "output_type": "display_data"
    }
   ],
   "source": [
    "# Witing data to datalake as parquet form can be done in databricks\n",
    "# circuits_final_df.write.mode(\"overwrite\").parquet(\"circuits\")"
   ]
  },
  {
   "cell_type": "code",
   "execution_count": null,
   "id": "a2fe202b",
   "metadata": {},
   "outputs": [],
   "source": []
  },
  {
   "cell_type": "code",
   "execution_count": null,
   "id": "0dba5346",
   "metadata": {},
   "outputs": [],
   "source": []
  },
  {
   "cell_type": "code",
   "execution_count": null,
   "id": "8b875ce6",
   "metadata": {},
   "outputs": [],
   "source": []
  },
  {
   "cell_type": "code",
   "execution_count": null,
   "id": "e636949a",
   "metadata": {},
   "outputs": [],
   "source": []
  }
 ],
 "metadata": {
  "kernelspec": {
   "display_name": "Python 3 (ipykernel)",
   "language": "python",
   "name": "python3"
  },
  "language_info": {
   "codemirror_mode": {
    "name": "ipython",
    "version": 3
   },
   "file_extension": ".py",
   "mimetype": "text/x-python",
   "name": "python",
   "nbconvert_exporter": "python",
   "pygments_lexer": "ipython3",
   "version": "3.9.7"
  }
 },
 "nbformat": 4,
 "nbformat_minor": 5
}
